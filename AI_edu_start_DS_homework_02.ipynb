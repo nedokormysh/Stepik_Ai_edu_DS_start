{
  "nbformat": 4,
  "nbformat_minor": 0,
  "metadata": {
    "colab": {
      "provenance": [],
      "include_colab_link": true
    },
    "kernelspec": {
      "name": "python3",
      "display_name": "Python 3"
    },
    "language_info": {
      "name": "python"
    }
  },
  "cells": [
    {
      "cell_type": "markdown",
      "metadata": {
        "id": "view-in-github",
        "colab_type": "text"
      },
      "source": [
        "<a href=\"https://colab.research.google.com/github/nedokormysh/Stepik_Ai_edu_DS_start/blob/dict_list_tuple/AI_edu_start_DS_homework_02.ipynb\" target=\"_parent\"><img src=\"https://colab.research.google.com/assets/colab-badge.svg\" alt=\"Open In Colab\"/></a>"
      ]
    },
    {
      "cell_type": "markdown",
      "source": [
        "# Домашнее задание 2"
      ],
      "metadata": {
        "id": "rKXnM9Ng_mum"
      }
    },
    {
      "cell_type": "markdown",
      "source": [
        "**Темы**\n",
        "\n",
        "*   Списки\n",
        "*   Кортежи\n",
        "*   Множества\n",
        "*   Словари"
      ],
      "metadata": {
        "id": "uK_Ww3DV_qqb"
      }
    },
    {
      "cell_type": "markdown",
      "source": [
        "## С понедельника"
      ],
      "metadata": {
        "id": "3kc-lhc_fBA6"
      }
    },
    {
      "cell_type": "markdown",
      "source": [
        "Маша решила начать новую жизнь с понедельника. Для этого она купила себе фитнес-браслет и фиксирует количество ежедневно пройденных шагов. Помогите Маше определить в какой по счету из дней, начиная с понедельника (понедельник имеет номер 1), она прошла больше всего шагов. Если таких дней несколько, выведите номер первого подходящего дня."
      ],
      "metadata": {
        "id": "BedTc_h1fDgo"
      }
    },
    {
      "cell_type": "markdown",
      "source": [
        "**Входные данные**\n",
        "\n",
        "Дан строка чисел - количество ежедневно пройденных шагов в 1, 2 и так далее дней. Числа в строке разделены пробелами.\n",
        "\n",
        "**Выходные данные**\n",
        "\n",
        "Вывести номер дня, в который Маша прошла наибольшее количество шагов. Если таких дней несколько, то вывести номер первого из таких дней."
      ],
      "metadata": {
        "id": "_kDqo3LJfJIc"
      }
    },
    {
      "cell_type": "markdown",
      "source": [
        "### Решение"
      ],
      "metadata": {
        "id": "24o2NROXfyWW"
      }
    },
    {
      "cell_type": "code",
      "source": [
        "# ваш код здесь\n",
        "s = input().split()\n",
        "max_value = max(s)\n",
        "max_index = s.index(max_value)\n",
        "print(max_index + 1)"
      ],
      "metadata": {
        "id": "eHoqWCU1fPJY",
        "colab": {
          "base_uri": "https://localhost:8080/"
        },
        "outputId": "371986e6-8d57-4279-9403-94211fb09d3e"
      },
      "execution_count": null,
      "outputs": [
        {
          "output_type": "stream",
          "name": "stdout",
          "text": [
            "1000 1500 7000 6000 7000\n",
            "3\n"
          ]
        }
      ]
    },
    {
      "cell_type": "markdown",
      "source": [
        "## Физкульт-ура"
      ],
      "metadata": {
        "id": "FTJsUZ_QfZO3"
      }
    },
    {
      "cell_type": "markdown",
      "source": [
        "Максим перешёл в другую школу, поэтому на уроке физкультуры ему понадобилось определить своё место в шеренге. Помогите ему это сделать.  Если в шеренге есть ученики с одинаковым ростом, таким же, как у Максима, то он должен встать после них."
      ],
      "metadata": {
        "id": "WxxT5q4LfbGa"
      }
    },
    {
      "cell_type": "markdown",
      "source": [
        "**Входные данные**\n",
        "\n",
        "Программа получает на вход две строки.\n",
        "В первой содержится список из невозрастающих натуральных чисел, разделенных пробелами - рост каждого ученика в строю.\n",
        "Во второй -  рост Максима. Все числа во входных данных натуральные и не превышают 200.\n",
        "\n",
        "**Выходные данные**\n",
        "\n",
        "Программа выводит номер, под которым Максим должен встать в шеренгу."
      ],
      "metadata": {
        "id": "jTLRKoLzgOfW"
      }
    },
    {
      "cell_type": "markdown",
      "source": [
        "### Решение"
      ],
      "metadata": {
        "id": "n3G5ByxEfxLr"
      }
    },
    {
      "cell_type": "code",
      "source": [
        "# ваш код здесь\n",
        "\n",
        "inp_1 = '165 163 160 160 157 157 155 154'\n",
        "inp_2 = '167'\n",
        "\n",
        "lst = list(map(int, inp_1.split()))\n",
        "m = int(inp_2)\n",
        "\n",
        "\n",
        "i = 0\n",
        "for l in range(1, len(lst)+1):\n",
        "    # print(lst[-l])\n",
        "    if m > lst[-l]:\n",
        "        # print(l, 'No')\n",
        "        pass\n",
        "    else:\n",
        "        # print('Yes')\n",
        "        i = l\n",
        "        break\n",
        "\n",
        "if m > lst[0]:\n",
        "    print(1)\n",
        "else:\n",
        "    print(len(lst) - i + 2)"
      ],
      "metadata": {
        "id": "D0qgSUegfezY",
        "colab": {
          "base_uri": "https://localhost:8080/"
        },
        "outputId": "fd3d0ad3-6a0b-4060-cad9-437d0b9c6ab8"
      },
      "execution_count": null,
      "outputs": [
        {
          "output_type": "stream",
          "name": "stdout",
          "text": [
            "1\n"
          ]
        }
      ]
    },
    {
      "cell_type": "markdown",
      "source": [
        "## Черное-белое"
      ],
      "metadata": {
        "id": "39Td22Ssfi6_"
      }
    },
    {
      "cell_type": "markdown",
      "source": [
        "Вася силен в математике, а вот с написанием сочинений совсем беда. Для того, чтобы пополнить словарный запас, ему купили большой словарь антонимов, состоящий из пар слов. Каждое слово является антонимом к парному ему слову. Все слова в словаре различны. Помогите Васе найти антоним к нужному слову."
      ],
      "metadata": {
        "id": "c0RuPUxAf3oC"
      }
    },
    {
      "cell_type": "markdown",
      "source": [
        "**Входные данные**\n",
        "\n",
        "На вход количество `N` пар антонимов, далее следует `N` строк, каждая строка содержит ровно два слова-антонима, разделенные пробелом. После этого следует одно слово, к которому нужно найти антоним.\n",
        "\n",
        "**Выходные данные**\n",
        "\n",
        "Программа выводит антоним к данному слову."
      ],
      "metadata": {
        "id": "boj5GMiHgU_o"
      }
    },
    {
      "cell_type": "markdown",
      "source": [
        "### Решение"
      ],
      "metadata": {
        "id": "KttBemz6f4pR"
      }
    },
    {
      "cell_type": "code",
      "source": [
        "# ваш код здесь\n",
        "N = int(input())\n",
        "\n",
        "antonyms = {}\n",
        "\n",
        "for i in range(N):\n",
        "    k, v = input().split()\n",
        "    antonyms[k] = v\n",
        "\n",
        "word = input()\n",
        "\n",
        "print(antonyms[word])"
      ],
      "metadata": {
        "id": "ual4Q4uqf4Dx",
        "colab": {
          "base_uri": "https://localhost:8080/"
        },
        "outputId": "eb9a43cd-2018-4197-fab6-0581f348eb23"
      },
      "execution_count": null,
      "outputs": [
        {
          "output_type": "stream",
          "name": "stdout",
          "text": [
            "3\n",
            "черное белое\n",
            "день ночь\n",
            "далеко близко\n",
            "день\n",
            "ночь\n"
          ]
        }
      ]
    },
    {
      "cell_type": "markdown",
      "source": [
        "## Тайны Хогвартса"
      ],
      "metadata": {
        "id": "6rT-c9jOPy2E"
      }
    },
    {
      "cell_type": "markdown",
      "source": [
        "Благодаря маховику времени Гермиона может посещать как можно большее количество уроков и познавать тайны магии. У нее есть список самых сильных заклинаний. Чтобы держать их в тайне, она тщательно их маскирует, записывая слова заклинания в обратном порядке. Помогите Гермионе расшифровать нужное заклинание."
      ],
      "metadata": {
        "id": "m5jAHmS3P0c-"
      }
    },
    {
      "cell_type": "markdown",
      "source": [
        "**Входные данные**\n",
        "\n",
        "Программа получает на вход количество элементов N. Далее идет N строк с  зашифрованными заклинаниями. Каждое заклинание - строка, в которой буквы всех слов записаны в обратном порядке. Затем следует номер заклинания m, которое нужно расшифровать.\n",
        "\n",
        "**Выходные данные**\n",
        "\n",
        "Вывести расшифрованное магическое заклинание."
      ],
      "metadata": {
        "id": "UrG2A4NcP2yV"
      }
    },
    {
      "cell_type": "markdown",
      "source": [
        "### Решение"
      ],
      "metadata": {
        "id": "zZcFyB55QhPg"
      }
    },
    {
      "cell_type": "code",
      "source": [
        "a = [3, 2, 1]\n",
        "a[::-1]"
      ],
      "metadata": {
        "colab": {
          "base_uri": "https://localhost:8080/"
        },
        "id": "JAruXJ76y4z0",
        "outputId": "7c9f15e1-880d-48ba-f174-83c56e892cff"
      },
      "execution_count": null,
      "outputs": [
        {
          "output_type": "execute_result",
          "data": {
            "text/plain": [
              "[1, 2, 3]"
            ]
          },
          "metadata": {},
          "execution_count": 3
        }
      ]
    },
    {
      "cell_type": "code",
      "source": [
        "a = input().split()\n",
        "a"
      ],
      "metadata": {
        "colab": {
          "base_uri": "https://localhost:8080/"
        },
        "id": "mvr1oyzczBff",
        "outputId": "9bc410d1-c123-43a3-de4c-d7e1ebba2ef0"
      },
      "execution_count": null,
      "outputs": [
        {
          "name": "stdout",
          "output_type": "stream",
          "text": [
            "3 2 1\n"
          ]
        },
        {
          "output_type": "execute_result",
          "data": {
            "text/plain": [
              "['3', '2', '1']"
            ]
          },
          "metadata": {},
          "execution_count": 4
        }
      ]
    },
    {
      "cell_type": "code",
      "source": [
        "N = int(input())\n",
        "\n",
        "spells = {}\n",
        "\n",
        "for i in range(N):\n",
        "    _ = input().split()\n",
        "    #print(1, _)\n",
        "    #_ = _[::-1]\n",
        "    #print(2, _)\n",
        "    _ = [l[::-1] for l in _]\n",
        "    #print(_)\n",
        "    spells[i] = ' '.join(_)\n",
        "\n",
        "m = int(input())\n",
        "\n",
        "print(spells[m-1])"
      ],
      "metadata": {
        "id": "cjFdDSTzP2jd"
      },
      "execution_count": null,
      "outputs": []
    },
    {
      "cell_type": "markdown",
      "source": [
        "## Джекпот"
      ],
      "metadata": {
        "id": "lJKDAuweP_xe"
      }
    },
    {
      "cell_type": "markdown",
      "source": [
        "Авантюрный Петя решил сорвать джекпот в лотерее. Для этого он стал выписывать комбинации чисел, которые выпадали в Спортлото. Проанализировав три лотереи, он решил испытать удачу. Помогите Пете выбрать \"удачные\" числа. Под удачными числами мы понимаем числа, которые выпадали в каждом розыгрыше."
      ],
      "metadata": {
        "id": "wsNL7x0wQBmT"
      }
    },
    {
      "cell_type": "markdown",
      "source": [
        "**Входные данные**\n",
        "\n",
        "На вход подаются три строчки. В каждой список чисел, разделенных пробелами.\n",
        "\n",
        "**Выходные данные**\n",
        "\n",
        "Вывести через пробел все числа выпавшие в каждом розыгрыше лотереи в порядке возрастания. Если таких чисел не было вывести сообщение - \"Удачных чисел нет\"."
      ],
      "metadata": {
        "id": "pVapr4TdQDOB"
      }
    },
    {
      "cell_type": "markdown",
      "source": [
        "### Решение"
      ],
      "metadata": {
        "id": "PM8xaLNRQbqo"
      }
    },
    {
      "cell_type": "code",
      "source": [
        "# ваш код здесь\n",
        "a, b, c = input().split(), input().split(), input().split()\n",
        "a, b, c = set(a), set(b), set(c)\n",
        "li = list(a & b & c)\n",
        "li = [int(l) for l in li]\n",
        "if li:\n",
        "    print(*sorted(li))\n",
        "else:\n",
        "    print(\"Удачных чисел нет\")"
      ],
      "metadata": {
        "id": "R6HU3j6TQHek",
        "colab": {
          "base_uri": "https://localhost:8080/",
          "height": 228
        },
        "outputId": "dc963f23-75ce-4e0e-e103-ca701c94b1ff"
      },
      "execution_count": null,
      "outputs": [
        {
          "name": "stdout",
          "output_type": "stream",
          "text": [
            "1 2 3\n",
            "1 4 2\n",
            "2 3 4\n"
          ]
        },
        {
          "output_type": "error",
          "ename": "AttributeError",
          "evalue": "'list' object has no attribute 'sorted'",
          "traceback": [
            "\u001b[0;31m---------------------------------------------------------------------------\u001b[0m",
            "\u001b[0;31mAttributeError\u001b[0m                            Traceback (most recent call last)",
            "\u001b[0;32m<ipython-input-14-2ad62368fc25>\u001b[0m in \u001b[0;36m<cell line: 5>\u001b[0;34m()\u001b[0m\n\u001b[1;32m      3\u001b[0m \u001b[0ma\u001b[0m\u001b[0;34m,\u001b[0m \u001b[0mb\u001b[0m\u001b[0;34m,\u001b[0m \u001b[0mc\u001b[0m \u001b[0;34m=\u001b[0m \u001b[0mset\u001b[0m\u001b[0;34m(\u001b[0m\u001b[0ma\u001b[0m\u001b[0;34m)\u001b[0m\u001b[0;34m,\u001b[0m \u001b[0mset\u001b[0m\u001b[0;34m(\u001b[0m\u001b[0mb\u001b[0m\u001b[0;34m)\u001b[0m\u001b[0;34m,\u001b[0m \u001b[0mset\u001b[0m\u001b[0;34m(\u001b[0m\u001b[0mc\u001b[0m\u001b[0;34m)\u001b[0m\u001b[0;34m\u001b[0m\u001b[0;34m\u001b[0m\u001b[0m\n\u001b[1;32m      4\u001b[0m \u001b[0ml\u001b[0m \u001b[0;34m=\u001b[0m \u001b[0mlist\u001b[0m\u001b[0;34m(\u001b[0m\u001b[0ma\u001b[0m \u001b[0;34m&\u001b[0m \u001b[0mb\u001b[0m \u001b[0;34m&\u001b[0m \u001b[0mc\u001b[0m\u001b[0;34m)\u001b[0m\u001b[0;34m\u001b[0m\u001b[0;34m\u001b[0m\u001b[0m\n\u001b[0;32m----> 5\u001b[0;31m \u001b[0mprint\u001b[0m\u001b[0;34m(\u001b[0m\u001b[0ml\u001b[0m\u001b[0;34m.\u001b[0m\u001b[0msorted\u001b[0m\u001b[0;34m(\u001b[0m\u001b[0;34m)\u001b[0m\u001b[0;34m)\u001b[0m\u001b[0;34m\u001b[0m\u001b[0;34m\u001b[0m\u001b[0m\n\u001b[0m",
            "\u001b[0;31mAttributeError\u001b[0m: 'list' object has no attribute 'sorted'"
          ]
        }
      ]
    },
    {
      "cell_type": "code",
      "source": [
        "a, b, c"
      ],
      "metadata": {
        "colab": {
          "base_uri": "https://localhost:8080/"
        },
        "id": "63w3LWX6741c",
        "outputId": "730532f8-2f41-474b-df7a-9a9d182de667"
      },
      "execution_count": null,
      "outputs": [
        {
          "output_type": "execute_result",
          "data": {
            "text/plain": [
              "({'1', '2'}, {'3', '4'}, {'1', '5'})"
            ]
          },
          "metadata": {},
          "execution_count": 11
        }
      ]
    },
    {
      "cell_type": "code",
      "source": [
        "list(a & c)"
      ],
      "metadata": {
        "colab": {
          "base_uri": "https://localhost:8080/"
        },
        "id": "e4X1cF8W7Ey5",
        "outputId": "124b8e78-bc77-4f6b-94bd-f81cdf638b3a"
      },
      "execution_count": null,
      "outputs": [
        {
          "output_type": "execute_result",
          "data": {
            "text/plain": [
              "['1']"
            ]
          },
          "metadata": {},
          "execution_count": 13
        }
      ]
    },
    {
      "cell_type": "markdown",
      "source": [
        "## Уникальные числа"
      ],
      "metadata": {
        "id": "1Rp3h00O87BB"
      }
    },
    {
      "cell_type": "markdown",
      "source": [
        "Дан список кортежей, состоящих из 6 натуральных чисел. Определите количество кортежей, содержащих числа, для которых выполнены оба условия:\n",
        "\n",
        "* есть только два равных числа, остальные 4 различны\n",
        "* сумма повторяющихся чисел меньше среднего арифметического остальных чисел"
      ],
      "metadata": {
        "id": "A-lt0YpD9IZI"
      }
    },
    {
      "cell_type": "markdown",
      "source": [
        "**Входные данные**  \n",
        "\n",
        "Программа получает на вход количество `N`. Далее идет `N` строк с `6` натуральными числами, разделенными пробелами.\n",
        "\n",
        "\n",
        "**Выходные данные**  \n",
        "Вывести одно число - количество строк, удовлетворяющих условиям задачи."
      ],
      "metadata": {
        "id": "asFt5luo9JZK"
      }
    },
    {
      "cell_type": "markdown",
      "source": [
        "### Решение"
      ],
      "metadata": {
        "id": "eHqwBDrc9b8s"
      }
    },
    {
      "cell_type": "code",
      "source": [
        "D = {6:2}\n",
        "list(D.keys())[0]"
      ],
      "metadata": {
        "colab": {
          "base_uri": "https://localhost:8080/"
        },
        "id": "amC7mQHtEoGl",
        "outputId": "d7dd03d2-8ba2-4919-937e-3c9bafb159de"
      },
      "execution_count": null,
      "outputs": [
        {
          "output_type": "execute_result",
          "data": {
            "text/plain": [
              "6"
            ]
          },
          "metadata": {},
          "execution_count": 26
        }
      ]
    },
    {
      "cell_type": "code",
      "source": [
        "# ваш код здесь\n",
        "\n",
        "def get_key(d, value):\n",
        "    for k, v in d.items():\n",
        "        if v == value:\n",
        "            return k\n",
        "\n",
        "N = int(input())\n",
        "\n",
        "c = 0\n",
        "for i in range(N):\n",
        "    unordered_list  = [int(l) for l in input().split()]\n",
        "    # print(unordered_list)\n",
        "    if len(set(unordered_list)) >= 4:\n",
        "        # print('True', len(set(unordered_list)))\n",
        "        sum_dupl = 0\n",
        "        duplicate_elements = {}\n",
        "        for item in unordered_list:\n",
        "            if item in duplicate_elements:\n",
        "                duplicate_elements[item] += 1\n",
        "            else:\n",
        "                duplicate_elements[item] = 1\n",
        "        # print('duplicate_elements', duplicate_elements)\n",
        "        if len(duplicate_elements) != 0:\n",
        "            v = get_key(duplicate_elements, 2)\n",
        "            # print(v)\n",
        "            if v != None:\n",
        "                sum_dupl += v * 2\n",
        "            else:\n",
        "                continue\n",
        "            # print('sum_dupl', sum_dupl)\n",
        "        else:\n",
        "            continue\n",
        "\n",
        "        #print(sum(unordered_list)/len(unordered_list))\n",
        "        #print(sum_dupl <= sum(unordered_list)/len(unordered_list))\n",
        "        unordered_list.remove(v)\n",
        "        unordered_list.remove(v)\n",
        "\n",
        "        if sum_dupl <= sum(unordered_list)/len(unordered_list):\n",
        "            c+=1\n",
        "\n",
        "print(c)"
      ],
      "metadata": {
        "id": "9S8ixpP38me5",
        "colab": {
          "base_uri": "https://localhost:8080/"
        },
        "outputId": "f870c692-d991-41d9-d944-1caa1e280095"
      },
      "execution_count": null,
      "outputs": [
        {
          "output_type": "stream",
          "name": "stdout",
          "text": [
            "1\n",
            "281\t223\t211\t4 140 94\n",
            "[281, 223, 211, 4, 140, 94]\n",
            "0\n"
          ]
        }
      ]
    },
    {
      "cell_type": "code",
      "source": [
        "def get_key(d, value):\n",
        "    for k, v in d.items():\n",
        "        if v == value:\n",
        "            return k\n",
        "\n",
        "d = {266: 1, 199: 1, 13: 2, 99: 1, 97: 1}\n",
        "\n",
        "get_key(d, 2)"
      ],
      "metadata": {
        "colab": {
          "base_uri": "https://localhost:8080/"
        },
        "id": "6urHdVDtRbtx",
        "outputId": "f65115a7-3c41-4f0f-b604-c52febcf0e70"
      },
      "execution_count": null,
      "outputs": [
        {
          "output_type": "execute_result",
          "data": {
            "text/plain": [
              "13"
            ]
          },
          "metadata": {},
          "execution_count": 49
        }
      ]
    },
    {
      "cell_type": "code",
      "source": [
        "unordered_list = [6, 6, 8, 7, 5, 1, 4, 5, 4, 7]\n",
        "duplicate_elements = {}\n",
        "\n",
        "for item in unordered_list:\n",
        "    if item in duplicate_elements:\n",
        "        duplicate_elements[item] += 1\n",
        "    else:\n",
        "        duplicate_elements[item] = 1\n",
        "\n",
        "print(duplicate_elements)"
      ],
      "metadata": {
        "colab": {
          "base_uri": "https://localhost:8080/"
        },
        "id": "vysuKxdRNIqK",
        "outputId": "76ab20e2-ab18-42ee-8b12-3108bfa938f4"
      },
      "execution_count": null,
      "outputs": [
        {
          "output_type": "stream",
          "name": "stdout",
          "text": [
            "{}\n"
          ]
        }
      ]
    },
    {
      "cell_type": "code",
      "source": [
        "l = [266, 199, 13, 13, 99, 97]"
      ],
      "metadata": {
        "id": "xA8V9qFKLm1D"
      },
      "execution_count": null,
      "outputs": []
    },
    {
      "cell_type": "code",
      "source": [
        "266 in l"
      ],
      "metadata": {
        "colab": {
          "base_uri": "https://localhost:8080/"
        },
        "id": "qhKYqul3NSdV",
        "outputId": "41f66a10-c0e4-4440-970c-c553be14933a"
      },
      "execution_count": null,
      "outputs": [
        {
          "output_type": "execute_result",
          "data": {
            "text/plain": [
              "True"
            ]
          },
          "metadata": {},
          "execution_count": 54
        }
      ]
    },
    {
      "cell_type": "code",
      "source": [
        "l.remove(13)"
      ],
      "metadata": {
        "id": "GSVnb4kBflIE"
      },
      "execution_count": null,
      "outputs": []
    },
    {
      "cell_type": "code",
      "source": [
        "l"
      ],
      "metadata": {
        "colab": {
          "base_uri": "https://localhost:8080/"
        },
        "id": "XVRFv4oygTYE",
        "outputId": "46c6dad6-2a95-4654-af9d-8135aa0d2baf"
      },
      "execution_count": null,
      "outputs": [
        {
          "output_type": "execute_result",
          "data": {
            "text/plain": [
              "[266, 199, 99, 97]"
            ]
          },
          "metadata": {},
          "execution_count": 60
        }
      ]
    },
    {
      "cell_type": "code",
      "source": [
        "len(set(l))"
      ],
      "metadata": {
        "colab": {
          "base_uri": "https://localhost:8080/"
        },
        "id": "n-VdZgxqLrE_",
        "outputId": "699144ca-b76b-4318-c6b9-32fa51edf133"
      },
      "execution_count": null,
      "outputs": [
        {
          "output_type": "execute_result",
          "data": {
            "text/plain": [
              "5"
            ]
          },
          "metadata": {},
          "execution_count": 36
        }
      ]
    },
    {
      "cell_type": "markdown",
      "source": [
        "## Подарок"
      ],
      "metadata": {
        "id": "43Yfm4UUQkDE"
      }
    },
    {
      "cell_type": "markdown",
      "source": [
        "14 февраля Ваня очень хочет удивить свою подругу. Поэтому он решил упаковать подарок в самую маленькую коробку, ее вложить в коробку побольше и так далее. В магазине оказалось N кубических коробочек, в которые можно упаковать выбранный подарок. Одну коробку можно поместить в другую, если длина её стороны хотя бы на 3 единицы меньше длины стороны другой коробки. Помогите Ване выбрать самую необыкновенную упаковку, определив наибольшее количество коробок, которые можно использовать, и максимально возможную длину стороны самой маленькой коробки."
      ],
      "metadata": {
        "id": "wmi9wlMKQnJi"
      }
    },
    {
      "cell_type": "markdown",
      "source": [
        "**Входные данные**\n",
        "\n",
        "Дана строка, содержащая числа, разделенные пробелами. Каждое число - натуральное и соответствует длине стороны коробки.\n",
        "\n",
        "**Выходные данные**\n",
        "\n",
        "Вывести два числа через пробел - количество коробок, которые нужны для самой необыкновенной упаковки, и максимально возможную длину стороны самой маленькой коробки."
      ],
      "metadata": {
        "id": "YNUfX--1QoWc"
      }
    },
    {
      "cell_type": "markdown",
      "source": [
        "### Решение"
      ],
      "metadata": {
        "id": "tTdly3a2RhEo"
      }
    },
    {
      "cell_type": "code",
      "source": [
        "def gift_box(boxes):\n",
        "    # Сортируем коробки по убыванию длины сторон\n",
        "    boxes = sorted(boxes, reverse=True)\n",
        "\n",
        "    print(boxes)\n",
        "\n",
        "    # Максимальное количество коробок, которое можно использовать\n",
        "    max_boxes = 0\n",
        "\n",
        "    # Максимальная длина стороны самой маленькой коробки\n",
        "    max_small_box = 0\n",
        "\n",
        "    # Перебираем все коробки\n",
        "    for i in range(len(boxes)):\n",
        "        # Количество коробок, которое можно использовать\n",
        "        boxes_count = 1\n",
        "\n",
        "        # Длина стороны самой маленькой коробки\n",
        "        small_box = boxes[i]\n",
        "\n",
        "        # Перебираем все коробки, которые можно поместить в предыдущую\n",
        "        for j in range(i + 1, len(boxes)):\n",
        "            if boxes[j] >= small_box - 3:\n",
        "                break\n",
        "            boxes_count += 1\n",
        "            small_box = boxes[j]\n",
        "\n",
        "        # Обновляем максимальное количество коробок и длину стороны самой маленькой коробки\n",
        "        if boxes_count > max_boxes:\n",
        "            max_boxes = boxes_count\n",
        "            max_small_box = small_box\n",
        "\n",
        "    return max_boxes, max_small_box"
      ],
      "metadata": {
        "id": "Rt7ERgtzQmP5"
      },
      "execution_count": null,
      "outputs": []
    },
    {
      "cell_type": "code",
      "source": [
        "# boxes = [int(l) for l in input().split()]\n",
        "boxes = [43, 40, 32, 40, 30]\n",
        "# boxes = [40, 40]"
      ],
      "metadata": {
        "id": "fqGMOne-qI-B"
      },
      "execution_count": null,
      "outputs": []
    },
    {
      "cell_type": "code",
      "source": [
        "def gift_box(boxes):\n",
        "    # Сортируем коробки по убыванию длины сторон\n",
        "    boxes = sorted(boxes, reverse=True)\n",
        "    _ = boxes[0]\n",
        "\n",
        "    # Максимальное количество коробок, которое можно использовать\n",
        "    max_boxes = 1\n",
        "\n",
        "    # Максимальная длина стороны самой маленькой коробки\n",
        "    max_small_box = 0\n",
        "\n",
        "    length = True\n",
        "\n",
        "    while length:\n",
        "         temp_box = boxes.pop(0)\n",
        "\n",
        "         if boxes[0] <= temp_box - 3:\n",
        "              # print(temp_box, boxes[0])\n",
        "              max_boxes += 1\n",
        "              max_small_box = boxes[0]\n",
        "\n",
        "         if len(boxes) == 1:\n",
        "            length = False\n",
        "\n",
        "    if max_small_box == 0:\n",
        "        max_small_box = _\n",
        "\n",
        "    return max_small_box, max_boxes\n",
        "\n",
        "gift_box(boxes)"
      ],
      "metadata": {
        "colab": {
          "base_uri": "https://localhost:8080/"
        },
        "id": "Zvrh-RE3qPGc",
        "outputId": "6dbe74d5-f9de-4908-886e-ec73e7182683"
      },
      "execution_count": null,
      "outputs": [
        {
          "output_type": "execute_result",
          "data": {
            "text/plain": [
              "(32, 3)"
            ]
          },
          "metadata": {},
          "execution_count": 85
        }
      ]
    },
    {
      "cell_type": "code",
      "source": [
        "## correct\n",
        "\n",
        "# put your python code here\n",
        "boxes = [int(l) for l in input().split()]\n",
        "\n",
        "def gift_box(boxes):\n",
        "    # Сортируем коробки по убыванию длины сторон\n",
        "    boxes = sorted(boxes, reverse=True)\n",
        "\n",
        "    if len(boxes) == 1:\n",
        "        return 1, boxes[0]\n",
        "    else:\n",
        "        _ = boxes[0]\n",
        "\n",
        "        # Максимальное количество коробок, которое можно использовать\n",
        "        max_boxes = 1\n",
        "\n",
        "        # Максимальная длина стороны самой маленькой коробки\n",
        "        max_small_box = 0\n",
        "\n",
        "        length = True\n",
        "\n",
        "        while length:\n",
        "            temp_box = boxes.pop(0)\n",
        "\n",
        "            if boxes[0] <= temp_box - 3:\n",
        "                max_boxes += 1\n",
        "                max_small_box = boxes[0]\n",
        "\n",
        "            if len(boxes) == 1:\n",
        "                length = False\n",
        "\n",
        "        if max_small_box == 0:\n",
        "            max_small_box = _\n",
        "\n",
        "        return max_boxes, max_small_box\n",
        "\n",
        "print(*gift_box(boxes))"
      ],
      "metadata": {
        "id": "mpc0u0xn8cwY"
      },
      "execution_count": null,
      "outputs": []
    },
    {
      "cell_type": "markdown",
      "source": [
        "## Уроки химии"
      ],
      "metadata": {
        "id": "BO5X5fBVQt62"
      }
    },
    {
      "cell_type": "markdown",
      "source": [
        "На уроках химии Маша узнала о веществах и входящих в них элементах. Например, вода состоит из водорода и кислорода, а углекислый газ из углерода и кислорода. Как здесь все запомнить? Помогите Маше определить в состав каких веществ  входит данный элемент."
      ],
      "metadata": {
        "id": "zmGd6Jl2QvUy"
      }
    },
    {
      "cell_type": "markdown",
      "source": [
        "**Входные данные**\n",
        "\n",
        "Программа получает на вход количество элементов `N`. Далее идет `N` строк, каждая строка начинается с названия вещества (одно слово), затем идут названия элементов, входящих в состав данного вещества. В следующей строке записано число `M`, далее идут `M` запросов — названия каких-то `M` элементов из упомянутых выше.\n",
        "\n",
        "\n",
        "**Выходные данные**\n",
        "\n",
        "Программа должна вывести названия веществ через пробел (порядок сохраняйте), в составе которого содержится данный элемент по примеру."
      ],
      "metadata": {
        "id": "GBk6klexQw1n"
      }
    },
    {
      "cell_type": "markdown",
      "source": [
        "### Решение"
      ],
      "metadata": {
        "id": "9lH_brz1Rh0p"
      }
    },
    {
      "cell_type": "code",
      "source": [
        "def find_substances(n, substances, m, elements):\n",
        "    # Создаем словарь, где ключом будет название элемента,\n",
        "    # а значением - список веществ, в состав которых входит этот элемент\n",
        "    elements_dict = {}\n",
        "\n",
        "    # Заполняем словарь\n",
        "    for substance in substances:\n",
        "        substance_name, *elements_list = substance.split()\n",
        "        for element in elements_list:\n",
        "            if element not in elements_dict:\n",
        "                elements_dict[element] = []\n",
        "            elements_dict[element].append(substance_name)\n",
        "\n",
        "    # Выводим список веществ для каждого элемента\n",
        "    for element in elements:\n",
        "        if element in elements_dict:\n",
        "            print(' '.join(elements_dict[element]))\n",
        "        else:\n",
        "            print()"
      ],
      "metadata": {
        "id": "ERSndC_NQ5Yc"
      },
      "execution_count": null,
      "outputs": []
    },
    {
      "cell_type": "code",
      "source": [
        "n =  int(input())\n",
        "\n",
        "prime_lst = []\n",
        "for l in range(n):\n",
        "    prime_lst.append(input())\n",
        "\n",
        "m = int(input())\n",
        "\n",
        "find_lst = []\n",
        "for l in range(m):\n",
        "    find_lst.append(input())"
      ],
      "metadata": {
        "colab": {
          "base_uri": "https://localhost:8080/"
        },
        "id": "ZmlDxSXnCFGa",
        "outputId": "151d1d45-6d84-4002-ff22-8adc4d5db6e8"
      },
      "execution_count": null,
      "outputs": [
        {
          "name": "stdout",
          "output_type": "stream",
          "text": [
            "3\n",
            "вода кислород водород\n",
            "аммиак азот водород\n",
            "ацетон углерод водород кислород\n"
          ]
        }
      ]
    },
    {
      "cell_type": "code",
      "source": [
        "find_substances(3, ['вода кислород водород', 'аммиак азот водород', 'ацетон углерод водород кислород'], 2, ['кислород', 'водород'])"
      ],
      "metadata": {
        "colab": {
          "base_uri": "https://localhost:8080/"
        },
        "id": "F0BNA-lrB7-o",
        "outputId": "35dde6df-22bc-477c-b6fb-a0f8b7a59654"
      },
      "execution_count": null,
      "outputs": [
        {
          "output_type": "stream",
          "name": "stdout",
          "text": [
            "вода ацетон\n",
            "вода аммиак ацетон\n"
          ]
        }
      ]
    },
    {
      "cell_type": "markdown",
      "source": [
        "## Букварь"
      ],
      "metadata": {
        "id": "dWpxroAtQ9KJ"
      }
    },
    {
      "cell_type": "markdown",
      "source": [
        "Смышленый Саша подрос и учится читать. Алфавит большой, целых 33 буквы и он знает еще не все. Определите сколько букв нужно знать Саше, чтобы прочитать заданное слово."
      ],
      "metadata": {
        "id": "ynofFTN4Q-8x"
      }
    },
    {
      "cell_type": "markdown",
      "source": [
        "**Входные данные**\n",
        "\n",
        "На вход подается строка, содержащая одно слово.\n",
        "\n",
        "\n",
        "**Выходные данные**\n",
        "\n",
        "Вывести через пробел два числа: длину слова и количество уникальных букв, которые должен знать Саша."
      ],
      "metadata": {
        "id": "dv4v1cOBRA2P"
      }
    },
    {
      "cell_type": "markdown",
      "source": [
        "### Решение"
      ],
      "metadata": {
        "id": "aaDEdvYRRiiF"
      }
    },
    {
      "cell_type": "code",
      "source": [
        "# ваш код здесь\n",
        "strng = input()\n",
        "\n",
        "print(len(strng), len(set(strng)))"
      ],
      "metadata": {
        "id": "z63IYM2yQ7oV"
      },
      "execution_count": null,
      "outputs": []
    },
    {
      "cell_type": "markdown",
      "source": [
        "## Игры разума"
      ],
      "metadata": {
        "id": "7tmwIW4JRFlv"
      }
    },
    {
      "cell_type": "markdown",
      "source": [
        "Последовательность чисел кажется \"подозрительной\" , если в ней встречается хотя бы 3 пары рядом стоящих чисел, для которых только одно число оканчивается на 3."
      ],
      "metadata": {
        "id": "ESvQZXW3RXEi"
      }
    },
    {
      "cell_type": "markdown",
      "source": [
        "**Входные данные**\n",
        "\n",
        "На вход подается строка, содержащая целые числа, разделенные пробелами.\n",
        "\n",
        "\n",
        "**Выходные данные**\n",
        "\n",
        "Необходимо вывести только одно сообщение - 'YES', если последовательность подозрительная, и  'NO' - в противном случае. Кавычки выводить не нужно."
      ],
      "metadata": {
        "id": "O6x8tg19RYRi"
      }
    },
    {
      "cell_type": "markdown",
      "source": [
        "### Решение"
      ],
      "metadata": {
        "id": "5IT02qPdRjVj"
      }
    },
    {
      "cell_type": "code",
      "source": [
        "# ваш код здесь\n",
        "def check_sequence(sequence):\n",
        "    # Создаем переменную-счетчик\n",
        "    count = 0\n",
        "\n",
        "    # Перебираем все пары рядом стоящих чисел\n",
        "    for i in range(len(sequence) - 1):\n",
        "        # Преобразуем числа в строки\n",
        "        num1 = str(sequence[i])\n",
        "        num2 = str(sequence[i + 1])\n",
        "\n",
        "        # Проверяем, что только одно число оканчивается на 3\n",
        "        if (num1[-1] == '3' and num2[-1] != '3') or (num1[-1] != '3' and num2[-1] == '3'):\n",
        "            count += 1\n",
        "\n",
        "        # Если количество таких пар больше или равно 3, то последовательность подозрительная\n",
        "        if count >= 3:\n",
        "            return 'YES'\n",
        "\n",
        "    # Если количество таких пар меньше 3, то последовательность не подозрительная\n",
        "    return 'NO'"
      ],
      "metadata": {
        "id": "ezkB3djuRbGT"
      },
      "execution_count": null,
      "outputs": []
    },
    {
      "cell_type": "code",
      "source": [
        "seq = list(map(int, input.split()))\n",
        "\n",
        "check_sequence([8, 11, 23, 45, -20])"
      ],
      "metadata": {
        "id": "Q22enDwe3mc7"
      },
      "execution_count": null,
      "outputs": []
    }
  ]
}