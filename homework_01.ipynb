{
  "nbformat": 4,
  "nbformat_minor": 0,
  "metadata": {
    "colab": {
      "provenance": [],
      "include_colab_link": true
    },
    "kernelspec": {
      "name": "python3",
      "display_name": "Python 3"
    },
    "language_info": {
      "name": "python"
    }
  },
  "cells": [
    {
      "cell_type": "markdown",
      "metadata": {
        "id": "view-in-github",
        "colab_type": "text"
      },
      "source": [
        "<a href=\"https://colab.research.google.com/github/nedokormysh/Stepik_Ai_edu_DS_start/blob/python_intro_func/homework_01.ipynb\" target=\"_parent\"><img src=\"https://colab.research.google.com/assets/colab-badge.svg\" alt=\"Open In Colab\"/></a>"
      ]
    },
    {
      "cell_type": "markdown",
      "source": [
        "# Домашнее задание 1"
      ],
      "metadata": {
        "id": "rKXnM9Ng_mum"
      }
    },
    {
      "cell_type": "markdown",
      "source": [
        "**Темы**\n",
        "*   Переменные и арифметические действия\n",
        "*   Типы данных\n",
        "*   Условный оператор\n",
        "*   Циклы\n"
      ],
      "metadata": {
        "id": "uK_Ww3DV_qqb"
      }
    },
    {
      "cell_type": "markdown",
      "source": [
        "## Наибольшая цифра"
      ],
      "metadata": {
        "id": "rXYbSCfPo-P3"
      }
    },
    {
      "cell_type": "markdown",
      "source": [
        "Напишите программу, которая считывает одно натуральное число и выводит наибольшую цифру числа."
      ],
      "metadata": {
        "id": "EY7pRbpbo_t3"
      }
    },
    {
      "cell_type": "code",
      "source": [
        "print(min([15, 10, 0]))"
      ],
      "metadata": {
        "colab": {
          "base_uri": "https://localhost:8080/"
        },
        "id": "QsG-uwsIABlV",
        "outputId": "b5620e03-7046-4097-b0d5-3138e3c78d39"
      },
      "execution_count": null,
      "outputs": [
        {
          "output_type": "stream",
          "name": "stdout",
          "text": [
            "0\n"
          ]
        }
      ]
    },
    {
      "cell_type": "code",
      "source": [
        "n = input()\n",
        "\n",
        "max = 0\n",
        "for l in n:\n",
        "    l = int(l)\n",
        "    if l > max:\n",
        "        max = l\n",
        "\n",
        "print(max)"
      ],
      "metadata": {
        "id": "sEHKOhZBo_Lh",
        "outputId": "7ad2835c-bfd8-40f2-a6c5-0d360d268664",
        "colab": {
          "base_uri": "https://localhost:8080/"
        }
      },
      "execution_count": null,
      "outputs": [
        {
          "output_type": "stream",
          "name": "stdout",
          "text": [
            "1265\n",
            "6\n"
          ]
        }
      ]
    },
    {
      "cell_type": "code",
      "source": [
        "print(max(list(input())))"
      ],
      "metadata": {
        "id": "GUoGE6zQ5vX9",
        "outputId": "7ab618cf-0a5c-490d-dbc5-b46e9354afd3",
        "colab": {
          "base_uri": "https://localhost:8080/",
          "height": 193
        }
      },
      "execution_count": null,
      "outputs": [
        {
          "name": "stdout",
          "output_type": "stream",
          "text": [
            "1265\n"
          ]
        },
        {
          "output_type": "error",
          "ename": "TypeError",
          "evalue": "'int' object is not callable",
          "traceback": [
            "\u001b[0;31m---------------------------------------------------------------------------\u001b[0m",
            "\u001b[0;31mTypeError\u001b[0m                                 Traceback (most recent call last)",
            "\u001b[0;32m<ipython-input-3-2879064760be>\u001b[0m in \u001b[0;36m<cell line: 1>\u001b[0;34m()\u001b[0m\n\u001b[0;32m----> 1\u001b[0;31m \u001b[0mprint\u001b[0m\u001b[0;34m(\u001b[0m\u001b[0mmax\u001b[0m\u001b[0;34m(\u001b[0m\u001b[0mlist\u001b[0m\u001b[0;34m(\u001b[0m\u001b[0minput\u001b[0m\u001b[0;34m(\u001b[0m\u001b[0;34m)\u001b[0m\u001b[0;34m)\u001b[0m\u001b[0;34m)\u001b[0m\u001b[0;34m)\u001b[0m\u001b[0;34m\u001b[0m\u001b[0;34m\u001b[0m\u001b[0m\n\u001b[0m",
            "\u001b[0;31mTypeError\u001b[0m: 'int' object is not callable"
          ]
        }
      ]
    },
    {
      "cell_type": "markdown",
      "source": [
        "## Вкусный торт"
      ],
      "metadata": {
        "id": "jL9LKWuxpB7j"
      }
    },
    {
      "cell_type": "markdown",
      "source": [
        "На день рождения Мама испекла для Тани вкусный и красивый торт идеально круглой формы. Таня позвала всех детей из детского сада, поэтому мама не знала точно, сколько гостей придет на день рождения. Помогите написать программу, которая определяет наименьшее число разрезов торта по заданному числу гостей. Следует учесть, что разрезы торта можно производить как по радиусу, так и по диаметру."
      ],
      "metadata": {
        "id": "uTmLLPMOpC02"
      }
    },
    {
      "cell_type": "code",
      "source": [
        "n = int(input())\n",
        "\n",
        "if n == 1:\n",
        "    print(0)\n",
        "elif n % 2 == 0:\n",
        "    print(int(n / 2))\n",
        "else:\n",
        "    print(n)"
      ],
      "metadata": {
        "id": "i_mTdSFGpCZ4",
        "outputId": "23f0e6d6-6de2-406f-c6bc-0dfefe4dcaee",
        "colab": {
          "base_uri": "https://localhost:8080/"
        }
      },
      "execution_count": null,
      "outputs": [
        {
          "output_type": "stream",
          "name": "stdout",
          "text": [
            "12\n",
            "6\n"
          ]
        }
      ]
    },
    {
      "cell_type": "code",
      "source": [
        "guests = int(input())\n",
        "if guests % 2 == 0:  # если гостей четное кол-во, то делим торт по радиусу\n",
        "    print(guests // 2) # делим торт по радиусу на равные части\n",
        "else:\n",
        "    if guests == 1:   #если гости не придут, то весь торт достанется имениннику\n",
        "        print(0)      #торт достается имениннику\n",
        "    else:           # если гостей нечетное кол-фо, то делим торт по диаметру на всех гостей\n",
        "        print(guests)"
      ],
      "metadata": {
        "id": "HjSJLeul6j5N"
      },
      "execution_count": null,
      "outputs": []
    },
    {
      "cell_type": "code",
      "source": [
        "(lambda n: print([n // 2, n, 0][n % 2 + (n == 1)]))(int(input()))"
      ],
      "metadata": {
        "id": "5_6Umax-6rzo",
        "outputId": "5cf759f0-75ee-4da5-e2a2-7c429a6a84c2",
        "colab": {
          "base_uri": "https://localhost:8080/"
        }
      },
      "execution_count": null,
      "outputs": [
        {
          "output_type": "stream",
          "name": "stdout",
          "text": [
            "12\n",
            "6\n"
          ]
        }
      ]
    },
    {
      "cell_type": "code",
      "source": [
        "# n = 3"
      ],
      "metadata": {
        "id": "YUbWAhpc6ytQ"
      },
      "execution_count": null,
      "outputs": []
    },
    {
      "cell_type": "code",
      "source": [
        "# print([n // 2, n, 0][n % 2 + (n == 1)])"
      ],
      "metadata": {
        "id": "RS7kvtLe6wNA",
        "outputId": "1a7deb24-eff5-46ef-c441-7bc63a609127",
        "colab": {
          "base_uri": "https://localhost:8080/"
        }
      },
      "execution_count": null,
      "outputs": [
        {
          "output_type": "stream",
          "name": "stdout",
          "text": [
            "3\n"
          ]
        }
      ]
    },
    {
      "cell_type": "markdown",
      "source": [
        "## Следующее четное"
      ],
      "metadata": {
        "id": "XkC4AZ7ppEkT"
      }
    },
    {
      "cell_type": "markdown",
      "source": [
        "Напишите программу, которая считывает одно целое число и выводит следующее за ним четное число."
      ],
      "metadata": {
        "id": "5Cqab_9npFon"
      }
    },
    {
      "cell_type": "code",
      "source": [
        "n = int(input())\n",
        "\n",
        "if n % 2 == 0:\n",
        "    print(n + 2)\n",
        "else:\n",
        "    print(n + 1)"
      ],
      "metadata": {
        "id": "5iafyFSvpE_q",
        "outputId": "e6d91175-bc12-493e-d4a0-92941ff89280",
        "colab": {
          "base_uri": "https://localhost:8080/"
        }
      },
      "execution_count": null,
      "outputs": [
        {
          "output_type": "stream",
          "name": "stdout",
          "text": [
            "2\n",
            "4\n"
          ]
        }
      ]
    },
    {
      "cell_type": "markdown",
      "source": [
        "## Разборчивая невеста"
      ],
      "metadata": {
        "id": "BK4DJngPpH2a"
      }
    },
    {
      "cell_type": "markdown",
      "source": [
        "У разборчивой невесты есть любимые цветы - розы и любимое их количество в букете. Поэтому при выборе женихов она руководствуется правилом: \"жених должен подарить почти идеальный букет из роз\". По известному любимому числу невесты - N и количества роз в букетах от женихов: A , B и C штук (все дарят разные букеты, отличающиеся от идеального по-разному), определите, которого она выберет."
      ],
      "metadata": {
        "id": "mPG-w79cpJGO"
      }
    },
    {
      "cell_type": "code",
      "source": [
        "N = int(input())\n",
        "dct = {}\n",
        "dct['A'] = abs(N - int(input()))\n",
        "dct['B'] = abs(N - int(input()))\n",
        "dct['C'] = abs(N - int(input()))\n",
        "\n",
        "print(min(dct, key=lambda l: dct[l]))"
      ],
      "metadata": {
        "id": "7X2qOqKUpIqM",
        "outputId": "4e41d358-cd30-4f30-80c4-8dda7e79f550",
        "colab": {
          "base_uri": "https://localhost:8080/",
          "height": 105
        }
      },
      "execution_count": null,
      "outputs": [
        {
          "name": "stdout",
          "output_type": "stream",
          "text": [
            "25\n",
            "15\n",
            "10\n",
            "30\n"
          ]
        },
        {
          "output_type": "execute_result",
          "data": {
            "text/plain": [
              "'C'"
            ],
            "application/vnd.google.colaboratory.intrinsic+json": {
              "type": "string"
            }
          },
          "metadata": {},
          "execution_count": 12
        }
      ]
    },
    {
      "cell_type": "code",
      "source": [
        "min(dct.values())"
      ],
      "metadata": {
        "id": "Wz2Vxm_K-YFP",
        "outputId": "9455aa0a-3a56-4f19-d5c2-d4b154106ac4",
        "colab": {
          "base_uri": "https://localhost:8080/"
        }
      },
      "execution_count": null,
      "outputs": [
        {
          "output_type": "execute_result",
          "data": {
            "text/plain": [
              "10"
            ]
          },
          "metadata": {},
          "execution_count": 9
        }
      ]
    },
    {
      "cell_type": "code",
      "source": [
        "min(dct, key=lambda unit: dct[unit])"
      ],
      "metadata": {
        "id": "Umhhi9kJ-Mm7",
        "outputId": "becdce8d-4f9d-4af5-8582-6fa9a6892851",
        "colab": {
          "base_uri": "https://localhost:8080/",
          "height": 35
        }
      },
      "execution_count": null,
      "outputs": [
        {
          "output_type": "execute_result",
          "data": {
            "text/plain": [
              "'B'"
            ],
            "application/vnd.google.colaboratory.intrinsic+json": {
              "type": "string"
            }
          },
          "metadata": {},
          "execution_count": 11
        }
      ]
    },
    {
      "cell_type": "markdown",
      "source": [
        "## Треугольник ли"
      ],
      "metadata": {
        "id": "Ue0rFhq3pLhF"
      }
    },
    {
      "cell_type": "markdown",
      "source": [
        "По трем натуральным числам a, b, c определите, существует ли треугольник с такими сторонами. Если треугольник существует, выведите строку YES, иначе выведите строку NO.\n",
        "\n",
        "Напомним, что каждая сторона треугольника всегда меньше суммы двух других (неравенство треугольника)."
      ],
      "metadata": {
        "id": "4GyU6cMbpMRa"
      }
    },
    {
      "cell_type": "code",
      "source": [
        "a = int(input())\n",
        "b = int(input())\n",
        "c = int(input())\n",
        "\n",
        "if a + b > c and b + c > a and a + c > b:\n",
        "    print('YES')\n",
        "else:\n",
        "    print('NO')"
      ],
      "metadata": {
        "id": "kXmLujnQpL6C",
        "colab": {
          "base_uri": "https://localhost:8080/"
        },
        "outputId": "9f4489a4-b604-4044-b216-b48ca406fdd7"
      },
      "execution_count": null,
      "outputs": [
        {
          "output_type": "stream",
          "name": "stdout",
          "text": [
            "10\n",
            "20\n",
            "30\n",
            "YES\n"
          ]
        }
      ]
    },
    {
      "cell_type": "code",
      "source": [
        "a, b, c = int(input()), int(input()), int(input())\n",
        "print(['NO','YES'][a < b + c and b < a + c and c < a + b])"
      ],
      "metadata": {
        "colab": {
          "base_uri": "https://localhost:8080/"
        },
        "id": "3erDH050Gq1u",
        "outputId": "1ce4fcbf-1268-4a89-e8f6-f21646a8b930"
      },
      "execution_count": null,
      "outputs": [
        {
          "output_type": "stream",
          "name": "stdout",
          "text": [
            "10\n",
            "20\n",
            "30\n",
            "NO\n"
          ]
        }
      ]
    },
    {
      "cell_type": "code",
      "source": [
        "[a < b + c and b < a + c and c < a + b]"
      ],
      "metadata": {
        "colab": {
          "base_uri": "https://localhost:8080/"
        },
        "id": "aLx4S_6uGt99",
        "outputId": "226db558-e679-4e8d-a078-a05a1d2af42a"
      },
      "execution_count": null,
      "outputs": [
        {
          "output_type": "execute_result",
          "data": {
            "text/plain": [
              "[False]"
            ]
          },
          "metadata": {},
          "execution_count": 16
        }
      ]
    },
    {
      "cell_type": "markdown",
      "source": [
        "## Замечательные числа"
      ],
      "metadata": {
        "id": "isfW-NdkpOc5"
      }
    },
    {
      "cell_type": "markdown",
      "source": [
        "Найдите и выведите все трехзначные числа, которые в 70 раз больше суммы своих цифр. Результат выведите в порядке возрастания в одной строке."
      ],
      "metadata": {
        "id": "G3qPCirZpqDW"
      }
    },
    {
      "cell_type": "code",
      "source": [
        "n = 123\n",
        "while (n != 0):\n",
        "    print(n % 10)\n",
        "    n //= 10"
      ],
      "metadata": {
        "colab": {
          "base_uri": "https://localhost:8080/"
        },
        "id": "44Wv80pzLJY3",
        "outputId": "a570aba6-1dff-4c60-eca1-aa434899118b"
      },
      "execution_count": null,
      "outputs": [
        {
          "output_type": "stream",
          "name": "stdout",
          "text": [
            "3\n",
            "2\n",
            "1\n"
          ]
        }
      ]
    },
    {
      "cell_type": "code",
      "source": [
        "n = 210\n",
        "m = n\n",
        "s = 0\n",
        "while (n != 0):\n",
        "    # print(n % 10)\n",
        "    s += n % 10\n",
        "    n //= 10\n",
        "m, s * 70"
      ],
      "metadata": {
        "colab": {
          "base_uri": "https://localhost:8080/"
        },
        "id": "ANgmlg5YMk-s",
        "outputId": "b6e8a10c-5891-443d-8733-44271b174343"
      },
      "execution_count": null,
      "outputs": [
        {
          "output_type": "execute_result",
          "data": {
            "text/plain": [
              "(210, 210)"
            ]
          },
          "metadata": {},
          "execution_count": 42
        }
      ]
    },
    {
      "cell_type": "code",
      "source": [
        "lst = []\n",
        "\n",
        "for l in range(100, 1000):\n",
        "    num = l\n",
        "    s = 0\n",
        "    while (l != 0):\n",
        "        s += l % 10\n",
        "        l //= 10\n",
        "    # print(num, s * 70)\n",
        "    if num == s * 70:\n",
        "        lst.append(num)\n",
        "\n",
        "print(*lst)"
      ],
      "metadata": {
        "id": "Uvos0kMXpPPR",
        "colab": {
          "base_uri": "https://localhost:8080/"
        },
        "outputId": "749f033b-54d9-481d-a870-60516365238f"
      },
      "execution_count": null,
      "outputs": [
        {
          "output_type": "stream",
          "name": "stdout",
          "text": [
            "210 420 630 840\n"
          ]
        }
      ]
    },
    {
      "cell_type": "markdown",
      "source": [
        "## Счастливый билетик"
      ],
      "metadata": {
        "id": "eCIwbEtCpSS8"
      }
    },
    {
      "cell_type": "markdown",
      "source": [
        "Маша каждый день ездит в школу и обратно на трамвае. У нее собралась коллекция билетиков. Маша считает билетик счастливым, если сумма первых трех цифр равна сумме последних трех. Помогите Маше сосчитать количество счастливых билетиков в ее коллекции."
      ],
      "metadata": {
        "id": "XHeNu6C6pTAL"
      }
    },
    {
      "cell_type": "code",
      "source": [
        "N, a, b, c = int(input()), input(), input(), input()\n",
        "\n",
        "n = 0\n",
        "for l in [a, b, c]:\n",
        "    if int(l[0]) + int(l[1]) + int(l[2]) == int(l[3]) + int(l[4]) + int(l[5]):\n",
        "        n += 1\n",
        "print(n)"
      ],
      "metadata": {
        "id": "vldqdNpHpSqb"
      },
      "execution_count": null,
      "outputs": []
    },
    {
      "cell_type": "code",
      "source": [
        "a = 134567\n",
        "map(int, a[0:3])"
      ],
      "metadata": {
        "id": "Ad0EOgvYWuiD"
      },
      "execution_count": null,
      "outputs": []
    },
    {
      "cell_type": "markdown",
      "source": [
        "## Любимая школа"
      ],
      "metadata": {
        "id": "i0fEA2fOxHlY"
      }
    },
    {
      "cell_type": "markdown",
      "source": [
        "У Лены в школе занятия начинаются в 8:00. Продолжительность каждого урока — 45 минут, после 1-го, 3-го, 5-го и т.д. уроков перемена 5 минут, а после 2-го, 4-го, 6-го и т.д. — 10 минут. Помогите Лене определить, когда заканчивается указанный урок."
      ],
      "metadata": {
        "id": "YMAcvpINxJlY"
      }
    },
    {
      "cell_type": "code",
      "source": [
        "1 8:00, 8:45,\n",
        "2 8:50, 9:35,\n",
        "3 9:45, 10:30,\n",
        "4 10:35, 11:20,\n",
        "5 11:30, 12:15,\n",
        "6 12:20, 13:05,\n",
        "7 13:15, 14:00,\n",
        "8 14:05, 14:50,\n",
        "9 15:00, 15:45,\n",
        "10 15:50, 16:35"
      ],
      "metadata": {
        "id": "mLfgAr0fYq5c"
      },
      "execution_count": null,
      "outputs": []
    },
    {
      "cell_type": "code",
      "source": [
        "n = int(input())\n",
        "\n",
        "time_start = 8\n",
        "\n",
        "if n == 1:\n",
        "    print(8, 45)\n",
        "elif n == 2:\n",
        "    print(9, 35)\n",
        "elif n == 3:\n",
        "    print(10, 30)\n",
        "elif n == 4:\n",
        "   print(11, 20)\n",
        "elif n == 5:\n",
        "   print(15, 15)\n",
        "elif n == 6:\n",
        "   print(13, 05)\n",
        "elif n == 7:\n",
        "   print(14, 00)\n",
        "elif n == 8:\n",
        "   print(14, 50)\n",
        "elif n == 9:\n",
        "   print(15, 45)\n",
        "elif n == 10:\n",
        "   print(16, 35)"
      ],
      "metadata": {
        "id": "bX2GwotexJ5t"
      },
      "execution_count": null,
      "outputs": []
    },
    {
      "cell_type": "code",
      "source": [
        "n = int(input())\n",
        "a  = n * 45  + (n //2) * 10 + (n % 2) * 5\n",
        "print(8 + a //60, a % 60)"
      ],
      "metadata": {
        "colab": {
          "base_uri": "https://localhost:8080/"
        },
        "id": "nnbDe3cFf19D",
        "outputId": "c72b3458-e392-4427-fa26-afa316b8f950"
      },
      "execution_count": null,
      "outputs": [
        {
          "output_type": "stream",
          "name": "stdout",
          "text": [
            "3\n",
            "10 30\n"
          ]
        }
      ]
    },
    {
      "cell_type": "markdown",
      "source": [
        "## Детский лепет-1"
      ],
      "metadata": {
        "id": "trrxjkP8pZ2G"
      }
    },
    {
      "cell_type": "markdown",
      "source": [
        "Саша - очень смышленый малыш и каждый день радует маму новым произнесенным словом. Мама аккуратно записывает их в блокнотик. Помогите маме найти самое длинное слово, которое знает Саша. Если несколько слов имеют одинаковую максимальную длину, выведите первое из них."
      ],
      "metadata": {
        "id": "9FLOch8bpaum"
      }
    },
    {
      "cell_type": "code",
      "source": [
        "lst_wrds = []\n",
        "\n",
        "flag = True\n",
        "while flag == True:\n",
        "    # print(flag)\n",
        "    word = input()\n",
        "    if word == 'КОНЕЦ':\n",
        "        flag = False\n",
        "    lst_wrds.append(word)\n",
        "\n",
        "mx = 0\n",
        "biggest = ''\n",
        "\n",
        "for l in lst_wrds[:-1]:\n",
        "    if len(l) > mx:\n",
        "        mx = len(l)\n",
        "        biggest = l\n",
        "\n",
        "print(biggest)\n",
        "# print(max(lst_wrds))"
      ],
      "metadata": {
        "id": "E5UOjb77paVR",
        "colab": {
          "base_uri": "https://localhost:8080/"
        },
        "outputId": "1cdfb824-80ac-4410-d008-857c959ddef3"
      },
      "execution_count": null,
      "outputs": [
        {
          "output_type": "stream",
          "name": "stdout",
          "text": [
            "мама\n",
            "папа\n",
            "КОНЕЦ\n",
            "мама 4 0\n",
            "hello\n",
            "папа 4 4\n",
            "мама\n"
          ]
        }
      ]
    },
    {
      "cell_type": "code",
      "source": [
        "word, longest = '', ''\n",
        "\n",
        "while word != 'КОНЕЦ':\n",
        "    if len(word) > len(longest):\n",
        "        longest = word\n",
        "    word = input()\n",
        "\n",
        "print(longest)"
      ],
      "metadata": {
        "colab": {
          "base_uri": "https://localhost:8080/"
        },
        "id": "Rzv6RHeglU9p",
        "outputId": "b04db3d9-e3b8-4902-9c45-074184fd2447"
      },
      "execution_count": null,
      "outputs": [
        {
          "output_type": "execute_result",
          "data": {
            "text/plain": [
              "['мама', 'папа']"
            ]
          },
          "metadata": {},
          "execution_count": 7
        }
      ]
    },
    {
      "cell_type": "markdown",
      "source": [
        "## Детский лепет-2"
      ],
      "metadata": {
        "id": "cfnKKmarpcXc"
      }
    },
    {
      "cell_type": "markdown",
      "source": [
        "Папа Саши заинтересовался списком слов, которые мама аккуратно выписывает в блокнотик. Однако решил выяснить, какова средняя длина слова, которое знает Саша. Помогите папе найти среднюю длину слова из словаря Саши."
      ],
      "metadata": {
        "id": "e9A_-cS8pdew"
      }
    },
    {
      "cell_type": "code",
      "source": [
        "def Average(lst):\n",
        "    return sum(lst) / len(lst)\n",
        "\n",
        "word = ''\n",
        "\n",
        "lst_ln = []\n",
        "while word != 'КОНЕЦ':\n",
        "    lst_ln.append(len(word))\n",
        "    word = input()\n",
        "\n",
        "average = Average(lst_ln[1:])\n",
        "\n",
        "print(round(average, 1))"
      ],
      "metadata": {
        "id": "Y223eZd_pdEs",
        "colab": {
          "base_uri": "https://localhost:8080/"
        },
        "outputId": "117df45d-61a7-486f-bf7d-8d5dae8e7c38"
      },
      "execution_count": null,
      "outputs": [
        {
          "output_type": "stream",
          "name": "stdout",
          "text": [
            "мама\n",
            "папа\n",
            "КОНЕЦ\n",
            "4.0\n"
          ]
        }
      ]
    },
    {
      "cell_type": "markdown",
      "source": [
        "# Эх, Вася, Вася *\n",
        "На скучном уроке математики Вася решил заняться творчеством. Для этого в тетради в клетку он выделил прямоугольник размера N×M и стал закрашивать клетки, начиная с левого верхнего угла по спирали, закручивающейся к центру. Примерный результат представлен на рисунке:\n",
        "\n",
        "Для заданных значений N и M определите, сколько клеток пришлось закрасить Васе.\n",
        "\n",
        "Входные данные\n",
        "\n",
        "Первая строка входных данных содержит число N — высоту прямоугольника, вторая строка содержит число M — ширину прямоугольника. Оба числа - натуральные.\n",
        "\n",
        "Выходные данные\n",
        "\n",
        "Программа должна вывести одно целое число — количество клеток, закрашенных Васей."
      ],
      "metadata": {
        "id": "n5qeuATsukq1"
      }
    },
    {
      "cell_type": "code",
      "source": [
        "def count_painted_cells(N, M):\n",
        "    painted_cells = 0\n",
        "    top, bottom, left, right = 0, N - 1, 0, M - 1\n",
        "\n",
        "    while top <= bottom and left <= right:\n",
        "        # Вниз\n",
        "        for i in range(top, bottom + 1):\n",
        "            painted_cells += 1\n",
        "        left += 1\n",
        "\n",
        "        # Вправо\n",
        "        for i in range(left, right + 1):\n",
        "            painted_cells += 1\n",
        "        top += 1\n",
        "\n",
        "        # Вверх\n",
        "        if left <= right:\n",
        "            for i in range(top, bottom + 1):\n",
        "                painted_cells += 1\n",
        "            right -= 1\n",
        "\n",
        "        # Влево\n",
        "        if top <= bottom:\n",
        "            for i in range(right, left - 1, -1):\n",
        "                painted_cells += 1\n",
        "            bottom -= 1\n",
        "\n",
        "    return painted_cells\n",
        "\n",
        "# Чтение входных данных\n",
        "N = int(input())\n",
        "M = int(input())\n",
        "\n",
        "# Подсчет закрашенных клеток и вывод результата\n",
        "painted_cells_count = count_painted_cells(N, M)\n",
        "print(f\"Количество закрашенных клеток: {painted_cells_count}\")\n"
      ],
      "metadata": {
        "colab": {
          "base_uri": "https://localhost:8080/"
        },
        "id": "lfKHtutZzaG-",
        "outputId": "bfc24904-54bd-4f33-a69e-651acae8b04f"
      },
      "execution_count": null,
      "outputs": [
        {
          "output_type": "stream",
          "name": "stdout",
          "text": [
            "5\n",
            "6\n",
            "Количество закрашенных клеток: 30\n"
          ]
        }
      ]
    },
    {
      "cell_type": "code",
      "source": [
        "import numpy as np\n",
        "\n",
        "data = np.array([[6, 4, 8, 7, 9],\n",
        "                 [0, 0, 1, 7, 2],\n",
        "                 [5, 7, 9, 0, 4],\n",
        "                 [5, 1, 2, 8, 6],\n",
        "                 [9, 8, 3, 0, 3]])"
      ],
      "metadata": {
        "id": "xMYcfcxt-nYo"
      },
      "execution_count": null,
      "outputs": []
    },
    {
      "cell_type": "code",
      "source": [
        "data[:, 1]"
      ],
      "metadata": {
        "colab": {
          "base_uri": "https://localhost:8080/"
        },
        "id": "QYONyI7H-49U",
        "outputId": "a7c79d83-23e5-4a22-9aaf-d25befc9b778"
      },
      "execution_count": null,
      "outputs": [
        {
          "output_type": "execute_result",
          "data": {
            "text/plain": [
              "array([4, 0, 7, 1, 8])"
            ]
          },
          "metadata": {},
          "execution_count": 5
        }
      ]
    },
    {
      "cell_type": "code",
      "source": [
        "even_mask = data %2 == 0"
      ],
      "metadata": {
        "id": "Dm9iJ2CS-qnS"
      },
      "execution_count": null,
      "outputs": []
    },
    {
      "cell_type": "code",
      "source": [
        "data[even_mask] = 1"
      ],
      "metadata": {
        "id": "T-rSzQrg_Oah"
      },
      "execution_count": null,
      "outputs": []
    },
    {
      "cell_type": "code",
      "source": [
        "data = np.array([[8, 3, 9, 1, 9, 0],\n",
        "                 [5, 4, 2, 7, 4, 2],\n",
        "                 [0, 8, 7, 4, 3, 9],\n",
        "                 [0, 9, 7, 1, 0, 1],\n",
        "                 [7, 1, 0, 3, 9, 3],\n",
        "                 [5, 8, 0, 4, 0, 6]])"
      ],
      "metadata": {
        "id": "jnU2Ukmm_bWQ"
      },
      "execution_count": null,
      "outputs": []
    },
    {
      "cell_type": "code",
      "source": [
        "data[np.eye(6,6) == 1]"
      ],
      "metadata": {
        "colab": {
          "base_uri": "https://localhost:8080/"
        },
        "id": "DhEMCxJR_6jx",
        "outputId": "b26039bc-f814-4fd7-a073-bd25770f523e"
      },
      "execution_count": null,
      "outputs": [
        {
          "output_type": "execute_result",
          "data": {
            "text/plain": [
              "array([8, 4, 7, 1, 9, 6])"
            ]
          },
          "metadata": {},
          "execution_count": 17
        }
      ]
    },
    {
      "cell_type": "code",
      "source": [
        "\n",
        "data = np.array([\n",
        "    ['Анна', 19, 'F', 1, 4.5],\n",
        "    ['Борис', 21, 'M', 2, 3.7],\n",
        "    ['Вера', 21, 'F', 3, 4.8],\n",
        "    ['Глеб', 22, 'M', 4, 3.9],\n",
        "    ['Дарья', 18, 'F', 1, 4.2],\n",
        "    ['Егор', 23, 'M', 3, 4.1],\n",
        "    ['Жанна', 21, 'F', 2, 4.6],\n",
        "    ['Захар', 19, 'M', 1, 4.0]\n",
        "])"
      ],
      "metadata": {
        "id": "W35FsS7EC1ms"
      },
      "execution_count": null,
      "outputs": []
    },
    {
      "cell_type": "code",
      "source": [
        "data[:, 1]"
      ],
      "metadata": {
        "colab": {
          "base_uri": "https://localhost:8080/"
        },
        "id": "_CwNdYBsDHzK",
        "outputId": "ece7eed3-9783-45da-fb41-cf141028d7aa"
      },
      "execution_count": null,
      "outputs": [
        {
          "output_type": "execute_result",
          "data": {
            "text/plain": [
              "array(['19', '21', '21', '22', '18', '23', '21', '19'], dtype='<U32')"
            ]
          },
          "metadata": {},
          "execution_count": 22
        }
      ]
    },
    {
      "cell_type": "code",
      "source": [
        "data[(data[:, 1] != '19') & (data[:, 1] != '18')]"
      ],
      "metadata": {
        "colab": {
          "base_uri": "https://localhost:8080/"
        },
        "id": "T2ivduY5Em9x",
        "outputId": "0411bdb2-6a1e-45aa-b06a-03d0d1a5d1de"
      },
      "execution_count": null,
      "outputs": [
        {
          "output_type": "execute_result",
          "data": {
            "text/plain": [
              "array([['Борис', '21', 'M', '2', '3.7'],\n",
              "       ['Вера', '21', 'F', '3', '4.8'],\n",
              "       ['Глеб', '22', 'M', '4', '3.9'],\n",
              "       ['Егор', '23', 'M', '3', '4.1'],\n",
              "       ['Жанна', '21', 'F', '2', '4.6']], dtype='<U32')"
            ]
          },
          "metadata": {},
          "execution_count": 36
        }
      ]
    },
    {
      "cell_type": "code",
      "source": [
        "data[data[:, 1] > 20]"
      ],
      "metadata": {
        "colab": {
          "base_uri": "https://localhost:8080/",
          "height": 194
        },
        "id": "UIaMXa5VC8xZ",
        "outputId": "108ce665-6387-45c5-9d7b-06ea2762dd97"
      },
      "execution_count": null,
      "outputs": [
        {
          "output_type": "error",
          "ename": "UFuncTypeError",
          "evalue": "ufunc 'greater' did not contain a loop with signature matching types (<class 'numpy.dtypes.StrDType'>, <class 'numpy.dtypes.Int64DType'>) -> <class 'numpy.dtypes.BoolDType'>",
          "traceback": [
            "\u001b[0;31m---------------------------------------------------------------------------\u001b[0m",
            "\u001b[0;31mUFuncTypeError\u001b[0m                            Traceback (most recent call last)",
            "\u001b[0;32m<ipython-input-23-73bad8d4f2f3>\u001b[0m in \u001b[0;36m<cell line: 1>\u001b[0;34m()\u001b[0m\n\u001b[0;32m----> 1\u001b[0;31m \u001b[0mdata\u001b[0m\u001b[0;34m[\u001b[0m\u001b[0mdata\u001b[0m\u001b[0;34m[\u001b[0m\u001b[0;34m:\u001b[0m\u001b[0;34m,\u001b[0m \u001b[0;36m1\u001b[0m\u001b[0;34m]\u001b[0m \u001b[0;34m>\u001b[0m \u001b[0;36m20\u001b[0m\u001b[0;34m]\u001b[0m\u001b[0;34m\u001b[0m\u001b[0;34m\u001b[0m\u001b[0m\n\u001b[0m",
            "\u001b[0;31mUFuncTypeError\u001b[0m: ufunc 'greater' did not contain a loop with signature matching types (<class 'numpy.dtypes.StrDType'>, <class 'numpy.dtypes.Int64DType'>) -> <class 'numpy.dtypes.BoolDType'>"
          ]
        }
      ]
    },
    {
      "cell_type": "code",
      "source": [
        "N = 5 #int(input())\n",
        "M = 5 #int(input())\n",
        "\n",
        "s = 0\n",
        "\n",
        "if N == 1:\n",
        "    print(M)\n",
        "elif M == 1:\n",
        "    print(N)\n",
        "elif N == 2:\n",
        "    s = M + 1\n",
        "    print(s)\n",
        "elif M == 2:\n",
        "    s = N + 1\n",
        "    print(s)\n",
        "else:\n",
        "    i = 0\n",
        "    while N >= 1 and M >= 1:\n",
        "        print(N, M)\n",
        "        s += N + M - 1 #+ i\n",
        "        print(s)\n",
        "        # if N + M\n",
        "        if N % 2 == 0:\n",
        "            N -= 1\n",
        "        elif N % 2 != 0:\n",
        "            N -= 2\n",
        "\n",
        "        if M % 2 == 0:\n",
        "            M -= 2\n",
        "        elif M % 2 != 0:\n",
        "            M -= 2\n",
        "    print(s)"
      ],
      "metadata": {
        "colab": {
          "base_uri": "https://localhost:8080/"
        },
        "id": "T7RTnUQhjJp9",
        "outputId": "09fa6a10-85be-454a-fee4-824c1a9d4d3d"
      },
      "execution_count": null,
      "outputs": [
        {
          "output_type": "stream",
          "name": "stdout",
          "text": [
            "5 5\n",
            "9\n",
            "3 3\n",
            "14\n",
            "1 1\n",
            "15\n",
            "15\n"
          ]
        }
      ]
    },
    {
      "cell_type": "code",
      "source": [
        "N = 4\n",
        "M = 3\n",
        "\n",
        "s = 0\n",
        "\n",
        "while N >= 1 and M >= 1:\n",
        "    if N == 1:\n",
        "        print(M)\n",
        "        N -= 1\n",
        "    elif M == 1:\n",
        "        print(N)\n",
        "        M -= 1\n",
        "    elif N == 2:\n",
        "        s = M + 1\n",
        "        print(s)\n",
        "        M -= 1\n",
        "        break\n",
        "    elif M == 2:\n",
        "        s = N + 1\n",
        "        print(s)\n",
        "        M -= 2\n",
        "    else:\n",
        "        s += N + M - 1\n",
        "        # print(s)\n",
        "\n",
        "        if N % 2 == 0:\n",
        "            N -= 2\n",
        "        elif N % 2 != 0:\n",
        "            N -= 1\n",
        "\n",
        "        if M % 2 == 0:\n",
        "            M -= 2\n",
        "        elif M % 2 != 0:\n",
        "            M -= 2\n",
        "print(s)"
      ],
      "metadata": {
        "colab": {
          "base_uri": "https://localhost:8080/"
        },
        "id": "LKBb7B7zmX4L",
        "outputId": "a21b7677-504d-4e74-bd9d-f28d606dc0cb"
      },
      "execution_count": null,
      "outputs": [
        {
          "output_type": "stream",
          "name": "stdout",
          "text": [
            "2\n",
            "6\n"
          ]
        }
      ]
    },
    {
      "cell_type": "code",
      "source": [
        "N = 4 #int(input())\n",
        "M = 3 #int(input())\n",
        "\n",
        "s = 0\n",
        "\n",
        "def square(s, N, M):\n",
        "    if N == 1:\n",
        "        return(M)\n",
        "    elif M == 1:\n",
        "        return(N)\n",
        "    elif N == 2:\n",
        "        s = M + 1\n",
        "        return(s)\n",
        "    elif M == 2:\n",
        "        s = N + 1\n",
        "        return(s)\n",
        "    else:\n",
        "        # s += square(s)\n",
        "        s = 2 * N + M - 2\n",
        "        print(s)\n",
        "\n",
        "        while N >= 2 and M >= 2:\n",
        "            N, M = M, N\n",
        "            N = N - 3\n",
        "            M = M - 3\n",
        "            print(N, M)\n",
        "            s += square(s, N, M)\n",
        "        return(s)\n",
        "\n",
        "print(square(0, 3, 4))"
      ],
      "metadata": {
        "colab": {
          "base_uri": "https://localhost:8080/"
        },
        "id": "4SXmsk9t2eGA",
        "outputId": "c38f43f6-6d57-44dc-d543-b5fad64011c2"
      },
      "execution_count": null,
      "outputs": [
        {
          "output_type": "stream",
          "name": "stdout",
          "text": [
            "8\n",
            "1 0\n",
            "8\n"
          ]
        }
      ]
    },
    {
      "cell_type": "code",
      "source": [
        "def s(n, m):\n",
        "\n",
        "  if n % 2 == 1 and m % 2 == 1 and n < m:\n",
        "    N = n\n",
        "    M = m\n",
        "    s = N + M - 1\n",
        "    print(f'До поворота = {s}')\n",
        "  else:\n",
        "    N = n + 2\n",
        "    M = m\n",
        "    s = n + m - 1\n",
        "    print(f'До поворота = {s}')\n",
        "\n",
        "  i = 0\n",
        "\n",
        "  if n == 2 and m != 2:\n",
        "    s += 1\n",
        "\n",
        "  elif N % 2 == 0 and M % 2 == 0:\n",
        "  # print('hello')\n",
        "    while N > 2 and M > 2:\n",
        "    # print(N, M)\n",
        "      i += 1\n",
        "      N -= 2\n",
        "      M -= 2\n",
        "\n",
        "      print(f'Значения N = {N}, M = {M}')\n",
        "      print('Сколько прибавляем на повороте', N + M - 1)\n",
        "\n",
        "      if N == 2:# or M == 2:\n",
        "        s += 1\n",
        "      else:\n",
        "        s += N + M - 2\n",
        "      print(f'После поворота {i} = {s} ')\n",
        "  elif N % 2 == 1 and M % 2 == 1 and N > M:\n",
        "    while N > 2 and M > 2:\n",
        "      i += 1\n",
        "      N -= 2\n",
        "      M -= 2\n",
        "\n",
        "      print(f'Значения N = {N}, M = {M}')\n",
        "      print('Сколько прибавляем на повороте', N + M - 1)\n",
        "\n",
        "      if N == 2:# or M == 2:\n",
        "        s += 1\n",
        "      else:\n",
        "        s += N + M - 2\n",
        "      print(f'После поворота {i} = {s} ')\n",
        "  elif N % 2 == 1 and M % 2 == 1 and N < M:\n",
        "    print('hello')\n",
        "    N += 2\n",
        "    while N > 2 and M > 2:\n",
        "    # print(N, M)\n",
        "      i += 1\n",
        "      N -= 2\n",
        "      M -= 2\n",
        "\n",
        "      print(f'Значения N = {N}, M = {M}')\n",
        "      print('Сколько прибавляем на повороте', N + M - 1)\n",
        "\n",
        "      if N == 1 and M == 1:\n",
        "        # print('hello2')\n",
        "        # print(s)\n",
        "        break\n",
        "      elif N == 1:# and M != 1:\n",
        "        s += M + 1\n",
        "      else:\n",
        "        s += N + M - 2\n",
        "      print(f'После поворота {i} = {s} ')\n",
        "  else:\n",
        "    print('нет такого варианта')\n",
        "\n",
        "\n",
        "  print('Окончательная s =', s)"
      ],
      "metadata": {
        "id": "gCR70js2K0Ib"
      },
      "execution_count": null,
      "outputs": []
    },
    {
      "cell_type": "code",
      "source": [
        "s(3, 7)"
      ],
      "metadata": {
        "colab": {
          "base_uri": "https://localhost:8080/"
        },
        "id": "K9bcBSirciAc",
        "outputId": "8f9072f3-1dcd-4565-8978-0f9be52edb9e"
      },
      "execution_count": null,
      "outputs": [
        {
          "output_type": "stream",
          "name": "stdout",
          "text": [
            "До поворота = 9\n",
            "hello\n",
            "Значения N = 3, M = 5\n",
            "Сколько прибавляем на повороте 7\n",
            "После поворота 1 = 15 \n",
            "Значения N = 1, M = 3\n",
            "Сколько прибавляем на повороте 3\n",
            "После поворота 2 = 19 \n",
            "Окончательная s = 19\n"
          ]
        }
      ]
    },
    {
      "cell_type": "code",
      "source": [
        "8 + 6 - 2"
      ],
      "metadata": {
        "colab": {
          "base_uri": "https://localhost:8080/"
        },
        "id": "CIiePCrPOPHV",
        "outputId": "21e2c59f-711b-4337-ee6b-e1af0b5d5778"
      },
      "execution_count": null,
      "outputs": [
        {
          "output_type": "execute_result",
          "data": {
            "text/plain": [
              "12"
            ]
          },
          "metadata": {},
          "execution_count": 24
        }
      ]
    },
    {
      "cell_type": "code",
      "source": [
        "N = 0#int(input())\n",
        "M = 0#int(input())\n",
        "cells = N\n",
        "M -= 1\n",
        "N -= 1\n",
        "cells += (N + M)\n",
        "while N > 0 and M > 0:\n",
        "    if N >= 2 and M >= 2:\n",
        "        M -= 2\n",
        "        N -= 2\n",
        "        cells += M + N\n",
        "    else:\n",
        "        break\n",
        "print(cells)"
      ],
      "metadata": {
        "colab": {
          "base_uri": "https://localhost:8080/"
        },
        "id": "GQHJbFock7Mp",
        "outputId": "abf9b624-8dc5-4a0a-b547-0ea98410cbb8"
      },
      "execution_count": null,
      "outputs": [
        {
          "output_type": "stream",
          "name": "stdout",
          "text": [
            "-2\n"
          ]
        }
      ]
    },
    {
      "cell_type": "code",
      "source": [
        "### правильное решение.\n",
        "\n",
        "N = int(input())\n",
        "M = int(input())\n",
        "\n",
        "if N < 1 or M < 1:\n",
        "    cells = 0\n",
        "elif N == 1:\n",
        "    cells = M\n",
        "elif M == 1:\n",
        "    cells = N\n",
        "elif N == 2:\n",
        "    cells = M + 1\n",
        "else:\n",
        "    cells = N\n",
        "    M -= 1\n",
        "    N -= 1\n",
        "    cells += (N + M)\n",
        "    while N > 0 and M > 0:\n",
        "      if N >= 2 and M >= 2:\n",
        "          M -= 2\n",
        "          N -= 2\n",
        "          cells += M + N\n",
        "      else:\n",
        "          break\n",
        "print(cells)"
      ],
      "metadata": {
        "colab": {
          "base_uri": "https://localhost:8080/"
        },
        "id": "YjG6uEebjDhK",
        "outputId": "cc64709e-12f5-4af3-870c-054d8880353d"
      },
      "execution_count": null,
      "outputs": [
        {
          "output_type": "stream",
          "name": "stdout",
          "text": [
            "3\n"
          ]
        }
      ]
    },
    {
      "cell_type": "code",
      "source": [
        "a = int(input())\n",
        "b = int(input())\n",
        "\n",
        "s1 = 0\n",
        "\n",
        "if a == 2:\n",
        "    s1 = b + 1\n",
        "    print(s1)\n",
        "elif b == 2:\n",
        "    s1 = a + 1\n",
        "    print(s1)\n",
        "elif a * b == 1:\n",
        "    print(a)\n",
        "elif a == 1:\n",
        "    print(b)\n",
        "elif b == 1:\n",
        "    print(a)\n",
        "else:\n",
        "    s1 = a + b - 1 + a -1\n",
        "\n",
        "    a = a - 1\n",
        "    b = b - 1\n",
        "\n",
        "    while a * b > 4 and a >=2 and b >= 2:\n",
        "        if a * b > 4 and a >=2 and b >= 2:\n",
        "              s1 =  s1 + b - 2\n",
        "              b = b - 2\n",
        "        if a * b > 4 and a >=2 and b >= 2:\n",
        "            a = a - 2\n",
        "\n",
        "    print(s1)"
      ],
      "metadata": {
        "colab": {
          "base_uri": "https://localhost:8080/"
        },
        "id": "9ZvPTKBZ6KOx",
        "outputId": "4da3f9be-ba58-4e2d-aca1-431a475fc06d"
      },
      "execution_count": null,
      "outputs": [
        {
          "output_type": "stream",
          "name": "stdout",
          "text": [
            "6\n",
            "6\n",
            "20\n"
          ]
        }
      ]
    },
    {
      "cell_type": "code",
      "source": [
        "N = 4 #int(input())\n",
        "M = 4 #int(input())\n",
        "\n",
        "s = 0\n",
        "\n",
        "if N == 1:\n",
        "    print(M)\n",
        "elif M == 1:\n",
        "    print(N)\n",
        "elif N == 2:\n",
        "    s = M + 1\n",
        "    print(s)\n",
        "elif M == 2:\n",
        "    s = N + 1\n",
        "    print(s)\n",
        "else:\n",
        "    print('Hello')\n",
        "    if N == M and N % 2 == 0:\n",
        "        s = N + M - 2 + N\n",
        "    elif N == M and N % 2 == 1:\n",
        "        s = N + M - 1 + N\n",
        "\n",
        "    print(s)"
      ],
      "metadata": {
        "colab": {
          "base_uri": "https://localhost:8080/"
        },
        "id": "pUVULRRArNlv",
        "outputId": "682ad18e-12fe-491a-9929-86c65e181984"
      },
      "execution_count": null,
      "outputs": [
        {
          "output_type": "stream",
          "name": "stdout",
          "text": [
            "Hello\n",
            "10\n"
          ]
        }
      ]
    },
    {
      "cell_type": "code",
      "source": [
        "N = 5\n",
        "M = 3\n",
        "\n",
        "N - 1 + M - 1 + N"
      ],
      "metadata": {
        "colab": {
          "base_uri": "https://localhost:8080/"
        },
        "id": "atzZAqn2Bh87",
        "outputId": "980285c6-6c62-4629-fb42-9ff6f039bd0f"
      },
      "execution_count": null,
      "outputs": [
        {
          "output_type": "execute_result",
          "data": {
            "text/plain": [
              "11"
            ]
          },
          "metadata": {},
          "execution_count": 14
        }
      ]
    },
    {
      "cell_type": "code",
      "source": [
        "N = int(input())\n",
        "M = int(input())\n",
        "cells = N\n",
        "M -= 1\n",
        "N -= 1\n",
        "cells += (N + M)\n",
        "while N > 0 and M > 0:\n",
        "    if N >= 2 and M >= 2:\n",
        "        M -= 2\n",
        "        N -= 2\n",
        "        cells += M + N\n",
        "    else:\n",
        "        break\n",
        "print(cells)"
      ],
      "metadata": {
        "colab": {
          "base_uri": "https://localhost:8080/"
        },
        "id": "r1iyvbGukrs2",
        "outputId": "a8caf45a-0ded-4571-9e48-950637724ebc"
      },
      "execution_count": null,
      "outputs": [
        {
          "output_type": "stream",
          "name": "stdout",
          "text": [
            "6\n",
            "6\n",
            "24\n"
          ]
        }
      ]
    },
    {
      "cell_type": "code",
      "source": [
        "import numpy as np\n",
        "\n",
        "def check_array(arr):\n",
        "    has_positive = np.any(arr > 0)\n",
        "    all_negative = np.all(arr < 0)\n",
        "    return has_positive and all_negative\n",
        "\n",
        "array = np.array([-3, -5, -2, -8, -1])\n",
        "result = check_array(array)\n",
        "print(result)"
      ],
      "metadata": {
        "colab": {
          "base_uri": "https://localhost:8080/"
        },
        "id": "CKlOn6KClHFm",
        "outputId": "b8f53b29-9325-42d8-9a66-ac59f8ba120d"
      },
      "execution_count": null,
      "outputs": [
        {
          "output_type": "stream",
          "name": "stdout",
          "text": [
            "False\n"
          ]
        }
      ]
    },
    {
      "cell_type": "code",
      "source": [
        "def count_painted_cells(N, M):\n",
        "    total_cells = N * M\n",
        "    if total_cells % 2 == 0:\n",
        "        painted_cells = total_cells // 2\n",
        "    else:\n",
        "        painted_cells = (total_cells \\+ 1) // 2\n",
        "    return painted_cells\n",
        "\n",
        "N = int(input(\"Введите высоту прямоугольника (N): \"))\n",
        "M = int(input(\"Введите ширину прямоугольника (M): \"))\n",
        "\n",
        "result = count_painted_cells(2, 1)"
      ],
      "metadata": {
        "id": "elmfHnROoAXd",
        "outputId": "e8c4703f-9c20-44be-ba03-c196f5818726",
        "colab": {
          "base_uri": "https://localhost:8080/",
          "height": 140
        }
      },
      "execution_count": null,
      "outputs": [
        {
          "output_type": "error",
          "ename": "SyntaxError",
          "evalue": "unexpected character after line continuation character (<ipython-input-3-520ada2243f5>, line 6)",
          "traceback": [
            "\u001b[0;36m  File \u001b[0;32m\"<ipython-input-3-520ada2243f5>\"\u001b[0;36m, line \u001b[0;32m6\u001b[0m\n\u001b[0;31m    painted_cells = (total_cells \\+ 1) // 2\u001b[0m\n\u001b[0m                                  ^\u001b[0m\n\u001b[0;31mSyntaxError\u001b[0m\u001b[0;31m:\u001b[0m unexpected character after line continuation character\n"
          ]
        }
      ]
    }
  ]
}